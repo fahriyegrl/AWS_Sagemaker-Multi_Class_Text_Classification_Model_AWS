{
 "cells": [
  {
   "cell_type": "code",
   "execution_count": null,
   "id": "3b66238b-0818-4756-9808-2eda3eff12b2",
   "metadata": {},
   "outputs": [],
   "source": [
    "!pip install transformers"
   ]
  },
  {
   "cell_type": "code",
   "execution_count": null,
   "id": "55d41559-53ba-4252-abda-e754c445b879",
   "metadata": {},
   "outputs": [],
   "source": [
    "from sagemaker.huggingface import HuggingFaceModel\n",
    "from sagemaker import get_execution_role\n",
    "\n",
    "role = get_execution_role()\n",
    "\n",
    "model_s3_path = \"\"\n",
    "\n",
    "huggingface_model = HuggingFaceModel(\n",
    "        model_data = model_s3_path,\n",
    "        role = role,\n",
    "        transformers_version = \"4.6\",\n",
    "        pytorch_version = \"1.7\",\n",
    "        py_version = \"py36\",\n",
    "        entry_point = \"inference.py\"      \n",
    "\n",
    ")"
   ]
  },
  {
   "cell_type": "code",
   "execution_count": null,
   "id": "2e313516-0643-4f07-8013-1a65049934cb",
   "metadata": {},
   "outputs": [],
   "source": [
    "prediction = huggingface_model.deploy(\n",
    "        initial_instance_count = 1,\n",
    "        instance_type = \"ml.m5.xlarge\",\n",
    "        endpoint_name = \"multi_class_text_classigicaition_endpoint\"\n",
    ")"
   ]
  }
 ],
 "metadata": {
  "kernelspec": {
   "display_name": "",
   "name": ""
  },
  "language_info": {
   "name": ""
  }
 },
 "nbformat": 4,
 "nbformat_minor": 5
}
