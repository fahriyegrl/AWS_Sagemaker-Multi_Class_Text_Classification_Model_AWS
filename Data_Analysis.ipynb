{
 "cells": [
  {
   "cell_type": "code",
   "execution_count": null,
   "id": "6bce429a-8bb6-4d01-953c-9f88dc4335b9",
   "metadata": {},
   "outputs": [],
   "source": [
    "import pandas as pd\n",
    "\n",
    "s3_path = \"s3://hugging-face-text-multi-class/training-data/newsCorpora.csv\"\n",
    "df = pd.read_csv(s3_path, sep='\\t', names=[\"ID\",\"TITLE\",\"URL\",\"PUBLISHER\",\"CATEGORY\",\"STORY\",\"HOSTNAME\",\"TIMESTAMP\"])"
   ]
  },
  {
   "cell_type": "code",
   "execution_count": null,
   "id": "8028db4b-ddaa-4022-b317-1603f29bafec",
   "metadata": {},
   "outputs": [],
   "source": [
    "df.head()"
   ]
  },
  {
   "cell_type": "code",
   "execution_count": null,
   "id": "2342864f-df2a-4fb1-b576-1f21bda231b2",
   "metadata": {},
   "outputs": [],
   "source": [
    "df.describe()"
   ]
  },
  {
   "cell_type": "code",
   "execution_count": null,
   "id": "077a5613-5f39-426b-92e0-9eba70491e62",
   "metadata": {},
   "outputs": [],
   "source": [
    "df.info()"
   ]
  },
  {
   "cell_type": "code",
   "execution_count": null,
   "id": "97e64b66-26f3-4b0e-adf0-276860ac16ec",
   "metadata": {},
   "outputs": [],
   "source": [
    "df_working = df.copy()"
   ]
  },
  {
   "cell_type": "code",
   "execution_count": null,
   "id": "55b8cf77-0ca3-4e6e-be43-361468680599",
   "metadata": {},
   "outputs": [],
   "source": [
    "df_working = df_working[[\"TITLE\", \"CATEGORY\"]]"
   ]
  },
  {
   "cell_type": "code",
   "execution_count": null,
   "id": "f3f3c157-fa46-4b2e-8510-8de58e8d5bfb",
   "metadata": {},
   "outputs": [],
   "source": [
    "df_working.head()"
   ]
  },
  {
   "cell_type": "code",
   "execution_count": null,
   "id": "f185b1ed-7c1d-4c92-ba25-d68ef22bfa67",
   "metadata": {},
   "outputs": [],
   "source": [
    "category_dict = {\n",
    "    'e' : 'Entertainment',\n",
    "    'b' : 'Business',\n",
    "    't' : 'Science',\n",
    "    'm' : 'Health' }\n"
   ]
  },
  {
   "cell_type": "code",
   "execution_count": null,
   "id": "c0999083-b836-45d7-aee4-1f7b708abbd8",
   "metadata": {},
   "outputs": [],
   "source": [
    "def update_category(x):\n",
    "    return category_dict[x]\n",
    "    "
   ]
  },
  {
   "cell_type": "code",
   "execution_count": null,
   "id": "1b196fe4-a0a9-45da-a807-02951be7cde1",
   "metadata": {},
   "outputs": [],
   "source": [
    "df_working['CATEGORY'] = df_working['CATEGORY'].apply(lambda x: update_category(x))"
   ]
  },
  {
   "cell_type": "code",
   "execution_count": null,
   "id": "9b2fb1a7-8d92-421c-bda0-92ef0305d2e9",
   "metadata": {},
   "outputs": [],
   "source": [
    "import random\n",
    "\n",
    "def get_randon_item(category):\n",
    "    get_df = df_working[df_working['CATEGORY'] == category]\n",
    "    \n",
    "    return get_df['TITLE'].sample().values[0]"
   ]
  },
  {
   "cell_type": "code",
   "execution_count": null,
   "id": "09f1fabf-dbd7-420b-b6a9-04d36d47449c",
   "metadata": {},
   "outputs": [],
   "source": [
    "category = \"Health\"\n",
    "\n",
    "item = get_randon_item(category)\n",
    "print(item)\n"
   ]
  },
  {
   "cell_type": "code",
   "execution_count": null,
   "id": "a9f4261a-2152-480a-8748-a27f3e8bd07d",
   "metadata": {},
   "outputs": [],
   "source": [
    "import seaborn as sns\n",
    "import matplotlib.pyplot as plt\n",
    "\n",
    "plt.figure(figsize=(10,6))\n",
    "sns.countplot(data=df_working, x=\"CATEGORY\", order=df_working['CATEGORY'].value_counts().index)\n",
    "plt.title(\"Categories Distribution\")\n",
    "plt.xticks(rotation=45)\n",
    "plt.show"
   ]
  },
  {
   "cell_type": "code",
   "execution_count": null,
   "id": "c2a976b1-ca6a-4ef9-b125-56f79ae18ac1",
   "metadata": {},
   "outputs": [],
   "source": [
    "counts = df_working['CATEGORY'].value_counts()\n",
    "plt.figure(figsize=(10,6))\n",
    "plt.pie(counts, labels= counts.index, autopct='%1.1f%%', startangle=140)\n",
    "plt.title(\"Propostion-Category\")\n",
    "plt.show()"
   ]
  }
 ],
 "metadata": {
  "instance_type": "ml.p3.2xlarge",
  "kernelspec": {
   "display_name": "",
   "name": ""
  },
  "language_info": {
   "name": ""
  }
 },
 "nbformat": 4,
 "nbformat_minor": 5
}
